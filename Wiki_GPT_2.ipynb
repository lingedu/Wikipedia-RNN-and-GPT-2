{
  "nbformat": 4,
  "nbformat_minor": 0,
  "metadata": {
    "colab": {
      "name": "Wiki GPT-2.ipynb",
      "provenance": [],
      "collapsed_sections": [],
      "include_colab_link": true
    },
    "kernelspec": {
      "name": "python3",
      "display_name": "Python 3"
    }
  },
  "cells": [
    {
      "cell_type": "markdown",
      "metadata": {
        "id": "view-in-github",
        "colab_type": "text"
      },
      "source": [
        "<a href=\"https://colab.research.google.com/github/s99436q/Wikipedia-RNN-and-GPT-2/blob/master/Wiki_GPT_2.ipynb\" target=\"_parent\"><img src=\"https://colab.research.google.com/assets/colab-badge.svg\" alt=\"Open In Colab\"/></a>"
      ]
    },
    {
      "cell_type": "code",
      "metadata": {
        "id": "irZ-lGTki9mA",
        "colab_type": "code",
        "cellView": "both",
        "colab": {}
      },
      "source": [
        "#@title load data { output-height: 2, form-width: \"20%\" }\n",
        "# %tensorflow_version 2.x\n",
        "# import tensorflow as tf\n",
        "# import tensorflow_datasets as tfds\n",
        "# dataset, ds_info = tfds.load(\n",
        "#     name='wikipedia/20190301.en',\n",
        "#     data_dir='gs://tfds-data/datasets',\n",
        "#     with_info=True,\n",
        "#     split=tfds.Split.TRAIN,\n",
        "# )\n",
        "\n",
        "# filename='esmall.txt'\n",
        "# f = open(filename, \"w\")\n",
        "# for x in dataset.take(4000): \n",
        "#     f.write(x['text'].numpy().decode('utf-8'))\n",
        "# f.close()"
      ],
      "execution_count": null,
      "outputs": []
    },
    {
      "cell_type": "code",
      "metadata": {
        "id": "r5ZuLWG8i1K1",
        "colab_type": "code",
        "cellView": "both",
        "colab": {
          "base_uri": "https://localhost:8080/",
          "height": 345
        },
        "outputId": "6164ff13-01e6-4c1a-9e90-151a5b2df864"
      },
      "source": [
        "#@title set up GPT-2 { form-width: \"20%\" }\n",
        "%tensorflow_version 1.x\n",
        "import tensorflow as tf\n",
        "!pip install -q gpt-2-simple\n",
        "import gpt_2_simple as gpt2\n",
        "from datetime import datetime\n",
        "from google.colab import files\n",
        "!nvidia-smi\n",
        "gpt2.download_gpt2(model_name='124M')\n"
      ],
      "execution_count": null,
      "outputs": [
        {
          "output_type": "stream",
          "text": [
            "TensorFlow 1.x selected.\n",
            "WARNING:tensorflow:\n",
            "The TensorFlow contrib module will not be included in TensorFlow 2.0.\n",
            "For more information, please see:\n",
            "  * https://github.com/tensorflow/community/blob/master/rfcs/20180907-contrib-sunset.md\n",
            "  * https://github.com/tensorflow/addons\n",
            "  * https://github.com/tensorflow/io (for I/O related ops)\n",
            "If you depend on functionality not listed there, please file an issue.\n",
            "\n",
            "NVIDIA-SMI has failed because it couldn't communicate with the NVIDIA driver. Make sure that the latest NVIDIA driver is installed and running.\n",
            "\n"
          ],
          "name": "stdout"
        },
        {
          "output_type": "stream",
          "text": [
            "Fetching checkpoint: 1.05Mit [00:00, 330Mit/s]                                                      \n",
            "Fetching encoder.json: 1.05Mit [00:00, 92.3Mit/s]                                                   \n",
            "Fetching hparams.json: 1.05Mit [00:00, 221Mit/s]                                                    \n",
            "Fetching model.ckpt.data-00000-of-00001: 498Mit [00:06, 75.8Mit/s]                                  \n",
            "Fetching model.ckpt.index: 1.05Mit [00:00, 229Mit/s]                                                \n",
            "Fetching model.ckpt.meta: 1.05Mit [00:00, 130Mit/s]                                                 \n",
            "Fetching vocab.bpe: 1.05Mit [00:00, 163Mit/s]                                                       \n"
          ],
          "name": "stderr"
        }
      ]
    },
    {
      "cell_type": "code",
      "metadata": {
        "id": "jwV5Th3lwDnY",
        "colab_type": "code",
        "cellView": "both",
        "colab": {}
      },
      "source": [
        "#@title run model { form-width: \"20%\" }\n",
        "#filename='esmall.txt'\n",
        "#sess=gpt2.start_tf_sess()\n",
        "#gpt2.finetune(sess,dataset=filename,model_name='124M',steps=1000,restore_from='fresh',run_name='run1',print_every=10,sample_every=200,save_every=500)\n",
        "#gpt2.copy_checkpoint_to_gdrive(run_name='run1')"
      ],
      "execution_count": null,
      "outputs": []
    },
    {
      "cell_type": "code",
      "metadata": {
        "id": "imMR3_6UJhWV",
        "colab_type": "code",
        "cellView": "both",
        "colab": {
          "base_uri": "https://localhost:8080/",
          "height": 54
        },
        "outputId": "39d5a6fe-e359-4747-be4e-76b7a8195c43"
      },
      "source": [
        "#@title load checkpoint\n",
        "\n",
        "gpt2.copy_checkpoint_from_gdrive(run_name='run1')\n",
        "sess = gpt2.start_tf_sess()\n",
        "gpt2.load_gpt2(sess, run_name='run1')"
      ],
      "execution_count": null,
      "outputs": [
        {
          "output_type": "stream",
          "text": [
            "Loading checkpoint checkpoint/run1/model-1000\n",
            "INFO:tensorflow:Restoring parameters from checkpoint/run1/model-1000\n"
          ],
          "name": "stdout"
        }
      ]
    },
    {
      "cell_type": "code",
      "metadata": {
        "id": "g9FlYdFTL2-M",
        "colab_type": "code",
        "colab": {
          "base_uri": "https://localhost:8080/",
          "height": 1000
        },
        "outputId": "81fa658e-7850-4833-f493-1122a2122f27"
      },
      "source": [
        "#@title generate text\n",
        "#gpt2.generate(sess, run_name='run1') #generate without prefix\n",
        "gpt2.generate(sess,\n",
        "              length=250,\n",
        "              temperature=0.7,\n",
        "              prefix=\"Deep Learning \",\n",
        "              nsamples=5,\n",
        "              batch_size=5\n",
        "              )"
      ],
      "execution_count": null,
      "outputs": [
        {
          "output_type": "stream",
          "text": [
            "Deep Learning \n",
            "In AI, real-time, deep learning is used to create learning models that can be used to model complex artificial intelligence.\n",
            "\n",
            "See also \n",
            "\n",
            " List of AI algorithms\n",
            " List of recurrent neural networks\n",
            " Neural network\n",
            " Network of recurrent neural networks\n",
            " Neural network of deep learning\n",
            " Neural network of deep learning\n",
            " Neural network of recurrent neural networks\n",
            " Neural network of deep learning\n",
            " Neural network of deep learning\n",
            " Neural network of deep learning\n",
            " Deep learning\n",
            " Redistributed neural networks\n",
            " Theorem\n",
            "\n",
            "References\n",
            "\n",
            "External links\n",
            " Neural network of deep learning (NN)\n",
            " Neural network of deep learning\n",
            " List of recurrent neural networks\n",
            " List of recurrent neural networks\n",
            " Neural network of deep learning\n",
            " List of recurrent neural networks\n",
            " List of recurrent neural networks\n",
            " List of recurrent neural networks\n",
            " Neural network of neural networks\n",
            " List of recurrent neural networks\n",
            " List of recurrent neural networks\n",
            " List of recurrent neural networks\n",
            " List of recurrent neural networks\n",
            "\n",
            "Allusion to the fact that deep learning is particularly useful in the field of AI development: \"For every point in a map, there is also a line of a line, and every point in the line has a boundary line.\" For example, the \"point in the middle of the map\" of\n",
            "====================\n",
            "Deep Learning \n",
            "\n",
            "In 2012, the Centre for Computational Biology published a paper describing the performance of computational networks, the theory of parametric networks, and the generalization of the Akaceptivity space in a computational network.\n",
            "\n",
            "See also\n",
            "\n",
            "List of pre-trained networks\n",
            "\n",
            "References\n",
            "\n",
            "External links\n",
            " Network learning\n",
            " Forimage\n",
            " Learning networks in vector spaces and convolutional networks\n",
            "\n",
            "Category:Biopaths of neural networks\n",
            "Category:Biopaths of convolutional networks\n",
            "Category:Cognitive networks\n",
            "Category:Lists of pre-trained networks\n",
            "Category:Cognitive networks\n",
            "Category:Quantum networks\n",
            "Category:Tensor networks\n",
            "Category:Quantum networksNeocolon is a genus of bilaterians of the family Crassocetidae.\n",
            "\n",
            "References\n",
            "\n",
            "Category:Bilaterians of Europe\n",
            "Category:Bilaterians of North America\n",
            "Category:Bilaterians of AsiaThe following is a list of localities in the United States, Canada, and other countries in which a school of law or other public institution has a principal place of business in this community or that of the community.\n",
            "\n",
            "See also\n",
            "List of U.S. schools of law or other public institution\n",
            "====================\n",
            "Deep Learning \n",
            "The recommendation for the use of finite-dimensional loop networks is to use the best methods for loops.  If one of the methods is random, then one can assume that the loops are random.\n",
            "\n",
            "See also\n",
            " List-Morph\n",
            " List-Strip\n",
            "\n",
            "References\n",
            "\n",
            "External links\n",
            "\n",
            "Category:Programming\n",
            "Category:Lists of prime numbersCategory:Programming languagesThe following is a list of Australian college courses.\n",
            "\n",
            "See also\n",
            " List of Australian college courses\n",
            "List of Australian colleges and universities\n",
            "\n",
            "External links\n",
            " List of Australian college courses\n",
            "\n",
            "Category:Australian colleges and universities\n",
            "Category:Australian colleges and universities in Australia\n",
            "Category:College of Arts and Letters\n",
            "Category:College of Nursing\n",
            "\n",
            "Category:Australian universities & colleges\n",
            "Category:Australian colleges and universities in Queensland\n",
            "Category:Australian universities established in 1869\n",
            "Category:1869 establishments in Queensland\n",
            "Category:1869 disestablishments in Victoria\n",
            "Category:1869 disestablishments in Victoria\n",
            "Category:1869 establishments in VictoriaErik A. Chatman (October 3, 1818 – June 9, 1905) was an American politician, politician, and lawyer from New Jersey.\n",
            "\n",
            "Early life\n",
            "Chittenden\n",
            "====================\n",
            "Deep Learning \n",
            "\n",
            "Other names for the ancient American languages  include: \n",
            "\n",
            "The Ancient British languages name may also refer to:\n",
            "\n",
            "Higher languages of the American continent\n",
            "\n",
            "The Ancient Navajo languages name may be based on the Ancient Roman languages of the U.S., or \"The Language of the Gods\", a family of deities known as the Navajo.\n",
            "\n",
            "The New World languages name, which is sometimes a combination of the Old World languages of America, and the New World languages of Europe, Europe, and Asia, may refer to:\n",
            "\n",
            "The New Age languages name The New Age Slavic languages name The New Age Shoshone languages name The New Age Tibetan language name\n",
            "The Ancient Hebrew language name is also a combination of the Hebrew language name Hebrew and the Old Hebrew name Hebrew.\n",
            "\n",
            "History \n",
            "\n",
            "In the mid- to late 19th century, the language of the Indian subcontinent, the Khana language, was flourishing. The language was originally spoken in the western part of the Khana-Chhuk District in the Khana district of the Central Himalayan region of India.\n",
            "\n",
            "Khana language was growing in the region, and at the same time, the language of the Apurctic peoples\n",
            "====================\n",
            "Deep Learning \n",
            "The Microsoft Learning Engine is a high-throughput, high-fidelity, low-cost, machine learning system that helps researchers design and implement machine learning models that are accurate and reliable. It is currently being designed for use in other areas of the enterprise.\n",
            "\n",
            "Applications \n",
            "\n",
            "Computer vision and deep learning include:\n",
            "\n",
            "Training and validation of machine learning models\n",
            "Training and validation of machine learning models for cross-platform applications\n",
            "Training and validation of data mining models for cross-platform applications\n",
            "The Microsoft Learning Engine is a collaborative effort between Microsoft and the Semiconductor Industry and the IT Business Intelligence Alliance (BRIIA) to deliver high-quality, highly efficient, and cost effective training tools that allow enterprise users to use the Microsoft Learning Engine for training and validation of data mining models for the enterprise.\n",
            "\n",
            "The Microsoft Learning Engine is a collaborative effort between the Semiconductor Industry and the Microsoft Research Group to deliver high-quality, highly accurate, and cost-effective training tools that allow enterprises users to use the Microsoft Learning Engine for training and validation of data mining models for the enterprise.\n",
            "\n",
            "References \n",
            "\n",
            "Category:Windows-based computing systems\n",
            "Category:Windows-based computing systems\n",
            "Category:Windows operating systems\n",
            "====================\n"
          ],
          "name": "stdout"
        }
      ]
    }
  ]
}
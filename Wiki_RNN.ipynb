{
  "nbformat": 4,
  "nbformat_minor": 0,
  "metadata": {
    "colab": {
      "name": "Wiki RNN.ipynb",
      "provenance": [],
      "collapsed_sections": [],
      "toc_visible": true,
      "mount_file_id": "1gB2QnFJuHB-naJSGZQR0zNyAMcG9eD0N",
      "authorship_tag": "ABX9TyM5JFRvbIKnCT8IA+7AmeDT",
      "include_colab_link": true
    },
    "kernelspec": {
      "name": "python3",
      "display_name": "Python 3"
    },
    "accelerator": "GPU"
  },
  "cells": [
    {
      "cell_type": "markdown",
      "metadata": {
        "id": "view-in-github",
        "colab_type": "text"
      },
      "source": [
        "<a href=\"https://colab.research.google.com/github/s99436q/Wikipedia-and-GPT-2/blob/master/Wiki_RNN.ipynb\" target=\"_parent\"><img src=\"https://colab.research.google.com/assets/colab-badge.svg\" alt=\"Open In Colab\"/></a>"
      ]
    },
    {
      "cell_type": "markdown",
      "metadata": {
        "id": "oNL3Ch67HUbH",
        "colab_type": "text"
      },
      "source": [
        "#Prepare data\n"
      ]
    },
    {
      "cell_type": "code",
      "metadata": {
        "id": "105jqjQy85F3",
        "colab_type": "code",
        "cellView": "both",
        "colab": {
          "base_uri": "https://localhost:8080/",
          "height": 128
        },
        "outputId": "f8e8c0bd-791b-4386-8ef0-913a2fdefdb3"
      },
      "source": [
        "#@title set up { form-width: \"20%\" }\n",
        "#%tensorflow_version 2.x\n",
        "import tensorflow as tf\n",
        "import tensorflow_datasets as tfds\n",
        "import matplotlib.pyplot as plt\n",
        "import numpy as np\n",
        "import platform\n",
        "import time\n",
        "import pathlib\n",
        "import os\n",
        "from google.colab import drive\n",
        "drive.mount('/content/drive')\n",
        "os.chdir('/content/drive/My Drive/Colab Notebooks/GPT-2')\n",
        "#print('python version:',platform.python_version())\n",
        "#print('tensorflow version:',tf.__version__)\n",
        "#print(f'kears version: {tf.keras.__version__}')"
      ],
      "execution_count": 1,
      "outputs": [
        {
          "output_type": "stream",
          "text": [
            "Go to this URL in a browser: https://accounts.google.com/o/oauth2/auth?client_id=947318989803-6bn6qk8qdgf4n4g3pfee6491hc0brc4i.apps.googleusercontent.com&redirect_uri=urn%3aietf%3awg%3aoauth%3a2.0%3aoob&response_type=code&scope=email%20https%3a%2f%2fwww.googleapis.com%2fauth%2fdocs.test%20https%3a%2f%2fwww.googleapis.com%2fauth%2fdrive%20https%3a%2f%2fwww.googleapis.com%2fauth%2fdrive.photos.readonly%20https%3a%2f%2fwww.googleapis.com%2fauth%2fpeopleapi.readonly\n",
            "\n",
            "Enter your authorization code:\n",
            "··········\n",
            "Mounted at /content/drive\n"
          ],
          "name": "stdout"
        }
      ]
    },
    {
      "cell_type": "code",
      "metadata": {
        "id": "e1dIInZf-rv3",
        "colab_type": "code",
        "cellView": "both",
        "colab": {}
      },
      "source": [
        "#@title load data { output-height: 2, form-width: \"20%\" }\n",
        "dataset, ds_info = tfds.load(\n",
        "    name='wikipedia/20190301.en',\n",
        "    data_dir='gs://tfds-data/datasets',\n",
        "    with_info=True,\n",
        "    split=tfds.Split.TRAIN,\n",
        ")\n",
        "#print(ds_info)\n",
        "#print(ds_info.splits['train'].num_examples)"
      ],
      "execution_count": 2,
      "outputs": []
    },
    {
      "cell_type": "markdown",
      "metadata": {
        "id": "r9_N6PYFHwyf",
        "colab_type": "text"
      },
      "source": [
        "#Preprocess the dataset\n",
        "\n"
      ]
    },
    {
      "cell_type": "code",
      "metadata": {
        "id": "swqGCzFUHTq5",
        "colab_type": "code",
        "cellView": "both",
        "colab": {
          "base_uri": "https://localhost:8080/",
          "height": 90
        },
        "outputId": "ded6f698-d4ca-4a4d-a058-927fab8a2068"
      },
      "source": [
        "#@title Flatten the dataset { output-height: 20, form-width: \"20%\" }\n",
        "#coverting the datasetfrom the set of articles to set of characters.\n",
        "def article_to_text(text):\n",
        "  return np.array([char for char in text.numpy().decode('utf-8')])\n",
        "\n",
        "dataset_text = dataset.map(\n",
        "    lambda x: tf.py_function(func=article_to_text, inp=[x['text']], Tout=tf.string))\n",
        "\n",
        "\n",
        "for x in dataset_text.take(2): \n",
        "    print(len(x),x.numpy())\n",
        "\n",
        "#covert the text dataset to more regular char-based dataset\n",
        "dataset_chars=dataset_text.unbatch()\n",
        "for x in dataset_chars.take(2): \n",
        "    print(x)#.numpy())#.decode('utf-8'))\n",
        "\n"
      ],
      "execution_count": 3,
      "outputs": [
        {
          "output_type": "stream",
          "text": [
            "17851 [b'J' b'o' b's' ... b'n' b't' b's']\n",
            "2554 [b'P' b'a' b'u' ... b'e' b'r' b's']\n",
            "tf.Tensor(b'J', shape=(), dtype=string)\n",
            "tf.Tensor(b'o', shape=(), dtype=string)\n"
          ],
          "name": "stdout"
        }
      ]
    },
    {
      "cell_type": "code",
      "metadata": {
        "id": "O1dxOWHmNgug",
        "colab_type": "code",
        "cellView": "both",
        "colab": {
          "base_uri": "https://localhost:8080/",
          "height": 74
        },
        "outputId": "0c3bf90d-a381-4945-a641-5c39fd2deb9e"
      },
      "source": [
        "#@title generating vocabulary { output-height: 20, form-width: \"20%\" }\n",
        "vocab=set()\n",
        "for text in dataset_text.take(1000): #ideally we should take all dataset into\n",
        "    vocab.update([char.decode('utf-8') for char in text.numpy()])\n",
        "   \n",
        "vocab=sorted(vocab)\n",
        "print(f'num of unique vocab:{len(vocab)}\\n vocab set:{vocab}')"
      ],
      "execution_count": 4,
      "outputs": [
        {
          "output_type": "stream",
          "text": [
            "num of unique vocab:621\n",
            " vocab set:['\\t', '\\n', ' ', '!', '\"', '#', '$', '%', '&', \"'\", '(', ')', '*', '+', ',', '-', '.', '/', '0', '1', '2', '3', '4', '5', '6', '7', '8', '9', ':', ';', '<', '=', '>', '?', '@', 'A', 'B', 'C', 'D', 'E', 'F', 'G', 'H', 'I', 'J', 'K', 'L', 'M', 'N', 'O', 'P', 'Q', 'R', 'S', 'T', 'U', 'V', 'W', 'X', 'Y', 'Z', '[', ']', '^', '_', '`', 'a', 'b', 'c', 'd', 'e', 'f', 'g', 'h', 'i', 'j', 'k', 'l', 'm', 'n', 'o', 'p', 'q', 'r', 's', 't', 'u', 'v', 'w', 'x', 'y', 'z', '{', '|', '}', '~', '\\xa0', '£', '§', '«', '®', '°', '±', '²', '·', '»', '¼', '½', '¿', 'Á', 'Å', 'Æ', 'Ç', 'É', 'Ë', 'Í', 'Î', 'Ó', 'Ö', '×', 'Ø', 'Ü', 'Þ', 'ß', 'à', 'á', 'â', 'ã', 'ä', 'å', 'æ', 'ç', 'è', 'é', 'ê', 'ë', 'ì', 'í', 'î', 'ï', 'ñ', 'ò', 'ó', 'ô', 'õ', 'ö', 'ø', 'ú', 'û', 'ü', 'ý', 'ā', 'ă', 'ą', 'Ć', 'ć', 'Č', 'č', 'đ', 'ė', 'ę', 'ě', 'ğ', 'ġ', 'Ħ', 'ī', 'İ', 'ı', 'ļ', 'Ł', 'ł', 'ń', 'ň', 'Ō', 'ō', 'ő', 'ř', 'Ś', 'ś', 'Ş', 'ş', 'Š', 'š', 'ţ', 'ū', 'ź', 'ż', 'Ž', 'ž', 'ơ', 'ư', 'ǔ', 'ș', 'ț', 'ɔ', 'ə', 'ɛ', 'ʷ', 'ʼ', 'ʿ', '˚', 'Ι', 'Π', 'α', 'β', 'ε', 'η', 'ι', 'κ', 'μ', 'ο', 'ρ', 'ς', 'τ', 'υ', 'χ', 'ψ', 'ό', 'Б', 'В', 'Д', 'Ж', 'З', 'И', 'К', 'Л', 'М', 'Н', 'О', 'П', 'С', 'У', 'Ф', 'Х', 'а', 'б', 'в', 'г', 'д', 'е', 'з', 'и', 'й', 'к', 'л', 'м', 'н', 'о', 'п', 'р', 'с', 'т', 'у', 'ф', 'х', 'ц', 'ч', 'ш', 'щ', 'ъ', 'ы', 'ь', 'ю', 'я', 'і', 'ј', 'ћ', 'ּ', 'א', 'ב', 'ג', 'ו', 'ט', 'י', 'ך', 'ל', 'מ', 'נ', 'ס', 'ע', 'פ', 'ץ', 'צ', 'ק', 'ר', 'ת', 'װ', '،', 'أ', 'إ', 'ا', 'ب', 'ة', 'ت', 'ج', 'ح', 'خ', 'د', 'ذ', 'ر', 'س', 'ش', 'ص', 'ط', 'ع', 'ف', 'ق', 'ل', 'م', 'ن', 'ه', 'و', 'ي', 'پ', 'ک', 'அ', 'ஆ', 'இ', 'க', 'ச', 'ட', 'ண', 'த', 'ந', 'ன', 'ப', 'ம', 'ர', 'ற', 'ல', 'ள', 'ழ', 'வ', 'ா', 'ி', 'ு', 'ே', 'ை', 'ொ', '்', 'ಡ', 'ಮ', 'ರ', 'ಲ', 'ಸ', 'ಿ', 'ก', 'ข', 'ค', 'ง', 'จ', 'ช', 'ฒ', 'ณ', 'ด', 'ต', 'ท', 'ธ', 'น', 'บ', 'ป', 'ผ', 'พ', 'ภ', 'ม', 'ย', 'ร', 'ฤ', 'ล', 'ว', 'ศ', 'ส', 'ห', 'อ', 'ะ', 'ั', 'า', 'ำ', 'ิ', 'ี', 'ื', 'ุ', 'ู', 'เ', 'แ', 'โ', 'ไ', '่', '้', '์', 'ზ', 'უ', 'ფ', 'ḩ', 'ḻ', 'ṟ', 'ṣ', 'ṭ', 'ạ', 'ễ', 'ệ', 'ὶ', '\\u200e', '–', '—', '‘', '’', '“', '”', '†', '‡', '•', '…', '′', '″', '₨', '€', '₱', '℃', 'ℓ', '№', '™', '→', '−', '≠', '♠', '♦', '➔', '\\u3000', 'り', 'ア', 'イ', 'ウ', 'カ', 'ク', 'コ', 'シ', 'ズ', 'ゼ', 'ソ', 'タ', 'チ', 'ッ', 'ツ', 'パ', 'ボ', 'マ', 'ム', 'ャ', 'ョ', 'リ', 'レ', 'ン', 'ー', '一', '三', '上', '下', '东', '中', '主', '义', '九', '乡', '事', '介', '伐', '会', '依', '俳', '僧', '光', '児', '全', '六', '兴', '其', '典', '况', '前', '加', '勇', '務', '化', '华', '単', '卡', '厂', '双', '句', '史', '号', '吉', '吹', '哈', '哪', '国', '國', '地', '坝', '坪', '堡', '大', '姚', '子', '孤', '安', '宗', '家', '寄', '寨', '射', '局', '屋', '岩', '島', '左', '巴', '師', '店', '庙', '延', '建', '得', '心', '怡', '排', '探', '教', '数', '文', '斌', '新', '方', '日', '昌', '明', '春', '昭', '普', '會', '本', '李', '村', '板', '桦', '概', '民', '水', '江', '法', '泥', '泽', '湾', '溪', '潭', '澤', '濟', '無', '燈', '界', '皮', '石', '砲', '磨', '禪', '站', '维', '置', '義', '羹', '育', '胜', '臨', '花', '茜', '莲', '華', '董', '薦', '薩', '虚', '街', '装', '覺', '解', '訪', '語', '话', '语', '赤', '転', '軽', '辞', '農', '达', '逆', '通', '造', '連', '道', '那', '鄉', '里', '野', '録', '镇', '长', '門', '陈', '食', '馬', '马', '鹿', '黄', '김', '준', '태', 'ﬂ', '）', '｜']\n"
          ],
          "name": "stdout"
        }
      ]
    },
    {
      "cell_type": "code",
      "metadata": {
        "id": "E9c55U9YRNV5",
        "colab_type": "code",
        "cellView": "both",
        "colab": {
          "base_uri": "https://localhost:8080/",
          "height": 692
        },
        "outputId": "99be36e1-0b03-486d-9858-b5e389b02637"
      },
      "source": [
        "#@title vectorize the text{form-width: \"20%\"}\n",
        "char2index={char: index for index, char in enumerate(vocab)}\n",
        "index2char=np.array(vocab)\n",
        "\n",
        "print(index2char)\n",
        "print(char2index)"
      ],
      "execution_count": 5,
      "outputs": [
        {
          "output_type": "stream",
          "text": [
            "['\\t' '\\n' ' ' '!' '\"' '#' '$' '%' '&' \"'\" '(' ')' '*' '+' ',' '-' '.' '/'\n",
            " '0' '1' '2' '3' '4' '5' '6' '7' '8' '9' ':' ';' '<' '=' '>' '?' '@' 'A'\n",
            " 'B' 'C' 'D' 'E' 'F' 'G' 'H' 'I' 'J' 'K' 'L' 'M' 'N' 'O' 'P' 'Q' 'R' 'S'\n",
            " 'T' 'U' 'V' 'W' 'X' 'Y' 'Z' '[' ']' '^' '_' '`' 'a' 'b' 'c' 'd' 'e' 'f'\n",
            " 'g' 'h' 'i' 'j' 'k' 'l' 'm' 'n' 'o' 'p' 'q' 'r' 's' 't' 'u' 'v' 'w' 'x'\n",
            " 'y' 'z' '{' '|' '}' '~' '\\xa0' '£' '§' '«' '®' '°' '±' '²' '·' '»' '¼'\n",
            " '½' '¿' 'Á' 'Å' 'Æ' 'Ç' 'É' 'Ë' 'Í' 'Î' 'Ó' 'Ö' '×' 'Ø' 'Ü' 'Þ' 'ß' 'à'\n",
            " 'á' 'â' 'ã' 'ä' 'å' 'æ' 'ç' 'è' 'é' 'ê' 'ë' 'ì' 'í' 'î' 'ï' 'ñ' 'ò' 'ó'\n",
            " 'ô' 'õ' 'ö' 'ø' 'ú' 'û' 'ü' 'ý' 'ā' 'ă' 'ą' 'Ć' 'ć' 'Č' 'č' 'đ' 'ė' 'ę'\n",
            " 'ě' 'ğ' 'ġ' 'Ħ' 'ī' 'İ' 'ı' 'ļ' 'Ł' 'ł' 'ń' 'ň' 'Ō' 'ō' 'ő' 'ř' 'Ś' 'ś'\n",
            " 'Ş' 'ş' 'Š' 'š' 'ţ' 'ū' 'ź' 'ż' 'Ž' 'ž' 'ơ' 'ư' 'ǔ' 'ș' 'ț' 'ɔ' 'ə' 'ɛ'\n",
            " 'ʷ' 'ʼ' 'ʿ' '˚' 'Ι' 'Π' 'α' 'β' 'ε' 'η' 'ι' 'κ' 'μ' 'ο' 'ρ' 'ς' 'τ' 'υ'\n",
            " 'χ' 'ψ' 'ό' 'Б' 'В' 'Д' 'Ж' 'З' 'И' 'К' 'Л' 'М' 'Н' 'О' 'П' 'С' 'У' 'Ф'\n",
            " 'Х' 'а' 'б' 'в' 'г' 'д' 'е' 'з' 'и' 'й' 'к' 'л' 'м' 'н' 'о' 'п' 'р' 'с'\n",
            " 'т' 'у' 'ф' 'х' 'ц' 'ч' 'ш' 'щ' 'ъ' 'ы' 'ь' 'ю' 'я' 'і' 'ј' 'ћ' 'ּ' 'א'\n",
            " 'ב' 'ג' 'ו' 'ט' 'י' 'ך' 'ל' 'מ' 'נ' 'ס' 'ע' 'פ' 'ץ' 'צ' 'ק' 'ר' 'ת' 'װ'\n",
            " '،' 'أ' 'إ' 'ا' 'ب' 'ة' 'ت' 'ج' 'ح' 'خ' 'د' 'ذ' 'ر' 'س' 'ش' 'ص' 'ط' 'ع'\n",
            " 'ف' 'ق' 'ل' 'م' 'ن' 'ه' 'و' 'ي' 'پ' 'ک' 'அ' 'ஆ' 'இ' 'க' 'ச' 'ட' 'ண' 'த'\n",
            " 'ந' 'ன' 'ப' 'ம' 'ர' 'ற' 'ல' 'ள' 'ழ' 'வ' 'ா' 'ி' 'ு' 'ே' 'ை' 'ொ' '்' 'ಡ'\n",
            " 'ಮ' 'ರ' 'ಲ' 'ಸ' 'ಿ' 'ก' 'ข' 'ค' 'ง' 'จ' 'ช' 'ฒ' 'ณ' 'ด' 'ต' 'ท' 'ธ' 'น'\n",
            " 'บ' 'ป' 'ผ' 'พ' 'ภ' 'ม' 'ย' 'ร' 'ฤ' 'ล' 'ว' 'ศ' 'ส' 'ห' 'อ' 'ะ' 'ั' 'า'\n",
            " 'ำ' 'ิ' 'ี' 'ื' 'ุ' 'ู' 'เ' 'แ' 'โ' 'ไ' '่' '้' '์' 'ზ' 'უ' 'ფ' 'ḩ' 'ḻ'\n",
            " 'ṟ' 'ṣ' 'ṭ' 'ạ' 'ễ' 'ệ' 'ὶ' '\\u200e' '–' '—' '‘' '’' '“' '”' '†' '‡' '•'\n",
            " '…' '′' '″' '₨' '€' '₱' '℃' 'ℓ' '№' '™' '→' '−' '≠' '♠' '♦' '➔' '\\u3000'\n",
            " 'り' 'ア' 'イ' 'ウ' 'カ' 'ク' 'コ' 'シ' 'ズ' 'ゼ' 'ソ' 'タ' 'チ' 'ッ' 'ツ' 'パ' 'ボ' 'マ'\n",
            " 'ム' 'ャ' 'ョ' 'リ' 'レ' 'ン' 'ー' '一' '三' '上' '下' '东' '中' '主' '义' '九' '乡' '事'\n",
            " '介' '伐' '会' '依' '俳' '僧' '光' '児' '全' '六' '兴' '其' '典' '况' '前' '加' '勇' '務'\n",
            " '化' '华' '単' '卡' '厂' '双' '句' '史' '号' '吉' '吹' '哈' '哪' '国' '國' '地' '坝' '坪'\n",
            " '堡' '大' '姚' '子' '孤' '安' '宗' '家' '寄' '寨' '射' '局' '屋' '岩' '島' '左' '巴' '師'\n",
            " '店' '庙' '延' '建' '得' '心' '怡' '排' '探' '教' '数' '文' '斌' '新' '方' '日' '昌' '明'\n",
            " '春' '昭' '普' '會' '本' '李' '村' '板' '桦' '概' '民' '水' '江' '法' '泥' '泽' '湾' '溪'\n",
            " '潭' '澤' '濟' '無' '燈' '界' '皮' '石' '砲' '磨' '禪' '站' '维' '置' '義' '羹' '育' '胜'\n",
            " '臨' '花' '茜' '莲' '華' '董' '薦' '薩' '虚' '街' '装' '覺' '解' '訪' '語' '话' '语' '赤'\n",
            " '転' '軽' '辞' '農' '达' '逆' '通' '造' '連' '道' '那' '鄉' '里' '野' '録' '镇' '长' '門'\n",
            " '陈' '食' '馬' '马' '鹿' '黄' '김' '준' '태' 'ﬂ' '）' '｜']\n",
            "{'\\t': 0, '\\n': 1, ' ': 2, '!': 3, '\"': 4, '#': 5, '$': 6, '%': 7, '&': 8, \"'\": 9, '(': 10, ')': 11, '*': 12, '+': 13, ',': 14, '-': 15, '.': 16, '/': 17, '0': 18, '1': 19, '2': 20, '3': 21, '4': 22, '5': 23, '6': 24, '7': 25, '8': 26, '9': 27, ':': 28, ';': 29, '<': 30, '=': 31, '>': 32, '?': 33, '@': 34, 'A': 35, 'B': 36, 'C': 37, 'D': 38, 'E': 39, 'F': 40, 'G': 41, 'H': 42, 'I': 43, 'J': 44, 'K': 45, 'L': 46, 'M': 47, 'N': 48, 'O': 49, 'P': 50, 'Q': 51, 'R': 52, 'S': 53, 'T': 54, 'U': 55, 'V': 56, 'W': 57, 'X': 58, 'Y': 59, 'Z': 60, '[': 61, ']': 62, '^': 63, '_': 64, '`': 65, 'a': 66, 'b': 67, 'c': 68, 'd': 69, 'e': 70, 'f': 71, 'g': 72, 'h': 73, 'i': 74, 'j': 75, 'k': 76, 'l': 77, 'm': 78, 'n': 79, 'o': 80, 'p': 81, 'q': 82, 'r': 83, 's': 84, 't': 85, 'u': 86, 'v': 87, 'w': 88, 'x': 89, 'y': 90, 'z': 91, '{': 92, '|': 93, '}': 94, '~': 95, '\\xa0': 96, '£': 97, '§': 98, '«': 99, '®': 100, '°': 101, '±': 102, '²': 103, '·': 104, '»': 105, '¼': 106, '½': 107, '¿': 108, 'Á': 109, 'Å': 110, 'Æ': 111, 'Ç': 112, 'É': 113, 'Ë': 114, 'Í': 115, 'Î': 116, 'Ó': 117, 'Ö': 118, '×': 119, 'Ø': 120, 'Ü': 121, 'Þ': 122, 'ß': 123, 'à': 124, 'á': 125, 'â': 126, 'ã': 127, 'ä': 128, 'å': 129, 'æ': 130, 'ç': 131, 'è': 132, 'é': 133, 'ê': 134, 'ë': 135, 'ì': 136, 'í': 137, 'î': 138, 'ï': 139, 'ñ': 140, 'ò': 141, 'ó': 142, 'ô': 143, 'õ': 144, 'ö': 145, 'ø': 146, 'ú': 147, 'û': 148, 'ü': 149, 'ý': 150, 'ā': 151, 'ă': 152, 'ą': 153, 'Ć': 154, 'ć': 155, 'Č': 156, 'č': 157, 'đ': 158, 'ė': 159, 'ę': 160, 'ě': 161, 'ğ': 162, 'ġ': 163, 'Ħ': 164, 'ī': 165, 'İ': 166, 'ı': 167, 'ļ': 168, 'Ł': 169, 'ł': 170, 'ń': 171, 'ň': 172, 'Ō': 173, 'ō': 174, 'ő': 175, 'ř': 176, 'Ś': 177, 'ś': 178, 'Ş': 179, 'ş': 180, 'Š': 181, 'š': 182, 'ţ': 183, 'ū': 184, 'ź': 185, 'ż': 186, 'Ž': 187, 'ž': 188, 'ơ': 189, 'ư': 190, 'ǔ': 191, 'ș': 192, 'ț': 193, 'ɔ': 194, 'ə': 195, 'ɛ': 196, 'ʷ': 197, 'ʼ': 198, 'ʿ': 199, '˚': 200, 'Ι': 201, 'Π': 202, 'α': 203, 'β': 204, 'ε': 205, 'η': 206, 'ι': 207, 'κ': 208, 'μ': 209, 'ο': 210, 'ρ': 211, 'ς': 212, 'τ': 213, 'υ': 214, 'χ': 215, 'ψ': 216, 'ό': 217, 'Б': 218, 'В': 219, 'Д': 220, 'Ж': 221, 'З': 222, 'И': 223, 'К': 224, 'Л': 225, 'М': 226, 'Н': 227, 'О': 228, 'П': 229, 'С': 230, 'У': 231, 'Ф': 232, 'Х': 233, 'а': 234, 'б': 235, 'в': 236, 'г': 237, 'д': 238, 'е': 239, 'з': 240, 'и': 241, 'й': 242, 'к': 243, 'л': 244, 'м': 245, 'н': 246, 'о': 247, 'п': 248, 'р': 249, 'с': 250, 'т': 251, 'у': 252, 'ф': 253, 'х': 254, 'ц': 255, 'ч': 256, 'ш': 257, 'щ': 258, 'ъ': 259, 'ы': 260, 'ь': 261, 'ю': 262, 'я': 263, 'і': 264, 'ј': 265, 'ћ': 266, 'ּ': 267, 'א': 268, 'ב': 269, 'ג': 270, 'ו': 271, 'ט': 272, 'י': 273, 'ך': 274, 'ל': 275, 'מ': 276, 'נ': 277, 'ס': 278, 'ע': 279, 'פ': 280, 'ץ': 281, 'צ': 282, 'ק': 283, 'ר': 284, 'ת': 285, 'װ': 286, '،': 287, 'أ': 288, 'إ': 289, 'ا': 290, 'ب': 291, 'ة': 292, 'ت': 293, 'ج': 294, 'ح': 295, 'خ': 296, 'د': 297, 'ذ': 298, 'ر': 299, 'س': 300, 'ش': 301, 'ص': 302, 'ط': 303, 'ع': 304, 'ف': 305, 'ق': 306, 'ل': 307, 'م': 308, 'ن': 309, 'ه': 310, 'و': 311, 'ي': 312, 'پ': 313, 'ک': 314, 'அ': 315, 'ஆ': 316, 'இ': 317, 'க': 318, 'ச': 319, 'ட': 320, 'ண': 321, 'த': 322, 'ந': 323, 'ன': 324, 'ப': 325, 'ம': 326, 'ர': 327, 'ற': 328, 'ல': 329, 'ள': 330, 'ழ': 331, 'வ': 332, 'ா': 333, 'ி': 334, 'ு': 335, 'ே': 336, 'ை': 337, 'ொ': 338, '்': 339, 'ಡ': 340, 'ಮ': 341, 'ರ': 342, 'ಲ': 343, 'ಸ': 344, 'ಿ': 345, 'ก': 346, 'ข': 347, 'ค': 348, 'ง': 349, 'จ': 350, 'ช': 351, 'ฒ': 352, 'ณ': 353, 'ด': 354, 'ต': 355, 'ท': 356, 'ธ': 357, 'น': 358, 'บ': 359, 'ป': 360, 'ผ': 361, 'พ': 362, 'ภ': 363, 'ม': 364, 'ย': 365, 'ร': 366, 'ฤ': 367, 'ล': 368, 'ว': 369, 'ศ': 370, 'ส': 371, 'ห': 372, 'อ': 373, 'ะ': 374, 'ั': 375, 'า': 376, 'ำ': 377, 'ิ': 378, 'ี': 379, 'ื': 380, 'ุ': 381, 'ู': 382, 'เ': 383, 'แ': 384, 'โ': 385, 'ไ': 386, '่': 387, '้': 388, '์': 389, 'ზ': 390, 'უ': 391, 'ფ': 392, 'ḩ': 393, 'ḻ': 394, 'ṟ': 395, 'ṣ': 396, 'ṭ': 397, 'ạ': 398, 'ễ': 399, 'ệ': 400, 'ὶ': 401, '\\u200e': 402, '–': 403, '—': 404, '‘': 405, '’': 406, '“': 407, '”': 408, '†': 409, '‡': 410, '•': 411, '…': 412, '′': 413, '″': 414, '₨': 415, '€': 416, '₱': 417, '℃': 418, 'ℓ': 419, '№': 420, '™': 421, '→': 422, '−': 423, '≠': 424, '♠': 425, '♦': 426, '➔': 427, '\\u3000': 428, 'り': 429, 'ア': 430, 'イ': 431, 'ウ': 432, 'カ': 433, 'ク': 434, 'コ': 435, 'シ': 436, 'ズ': 437, 'ゼ': 438, 'ソ': 439, 'タ': 440, 'チ': 441, 'ッ': 442, 'ツ': 443, 'パ': 444, 'ボ': 445, 'マ': 446, 'ム': 447, 'ャ': 448, 'ョ': 449, 'リ': 450, 'レ': 451, 'ン': 452, 'ー': 453, '一': 454, '三': 455, '上': 456, '下': 457, '东': 458, '中': 459, '主': 460, '义': 461, '九': 462, '乡': 463, '事': 464, '介': 465, '伐': 466, '会': 467, '依': 468, '俳': 469, '僧': 470, '光': 471, '児': 472, '全': 473, '六': 474, '兴': 475, '其': 476, '典': 477, '况': 478, '前': 479, '加': 480, '勇': 481, '務': 482, '化': 483, '华': 484, '単': 485, '卡': 486, '厂': 487, '双': 488, '句': 489, '史': 490, '号': 491, '吉': 492, '吹': 493, '哈': 494, '哪': 495, '国': 496, '國': 497, '地': 498, '坝': 499, '坪': 500, '堡': 501, '大': 502, '姚': 503, '子': 504, '孤': 505, '安': 506, '宗': 507, '家': 508, '寄': 509, '寨': 510, '射': 511, '局': 512, '屋': 513, '岩': 514, '島': 515, '左': 516, '巴': 517, '師': 518, '店': 519, '庙': 520, '延': 521, '建': 522, '得': 523, '心': 524, '怡': 525, '排': 526, '探': 527, '教': 528, '数': 529, '文': 530, '斌': 531, '新': 532, '方': 533, '日': 534, '昌': 535, '明': 536, '春': 537, '昭': 538, '普': 539, '會': 540, '本': 541, '李': 542, '村': 543, '板': 544, '桦': 545, '概': 546, '民': 547, '水': 548, '江': 549, '法': 550, '泥': 551, '泽': 552, '湾': 553, '溪': 554, '潭': 555, '澤': 556, '濟': 557, '無': 558, '燈': 559, '界': 560, '皮': 561, '石': 562, '砲': 563, '磨': 564, '禪': 565, '站': 566, '维': 567, '置': 568, '義': 569, '羹': 570, '育': 571, '胜': 572, '臨': 573, '花': 574, '茜': 575, '莲': 576, '華': 577, '董': 578, '薦': 579, '薩': 580, '虚': 581, '街': 582, '装': 583, '覺': 584, '解': 585, '訪': 586, '語': 587, '话': 588, '语': 589, '赤': 590, '転': 591, '軽': 592, '辞': 593, '農': 594, '达': 595, '逆': 596, '通': 597, '造': 598, '連': 599, '道': 600, '那': 601, '鄉': 602, '里': 603, '野': 604, '録': 605, '镇': 606, '长': 607, '門': 608, '陈': 609, '食': 610, '馬': 611, '马': 612, '鹿': 613, '黄': 614, '김': 615, '준': 616, '태': 617, 'ﬂ': 618, '）': 619, '｜': 620}\n"
          ],
          "name": "stdout"
        }
      ]
    },
    {
      "cell_type": "code",
      "metadata": {
        "id": "787AAYbKSJoz",
        "colab_type": "code",
        "cellView": "both",
        "colab": {
          "base_uri": "https://localhost:8080/",
          "height": 72
        },
        "outputId": "20dc24b4-09d1-49a4-c1ec-921e65bc1f13"
      },
      "source": [
        "#@title transfor text to int{form-width: \"20%\"}\n",
        "def char_to_index(char):\n",
        "    char_symbol=char.numpy().decode('utf-8')\n",
        "    char_index= char2index[char_symbol] if char_symbol in char2index else char2index['?']\n",
        "    return char_index\n",
        "dataset_chars_int= dataset_chars.map(\n",
        "    lambda char: tf.py_function(func=char_to_index, inp=[char], Tout=tf.int32)\n",
        ")\n",
        "for x in dataset_chars_int.take(2):\n",
        "  print(x.numpy(),index2char[x.numpy()])\n",
        "print(dataset_chars,dataset_chars_int)"
      ],
      "execution_count": 6,
      "outputs": [
        {
          "output_type": "stream",
          "text": [
            "44 J\n",
            "80 o\n",
            "<DatasetV1Adapter shapes: <unknown>, types: tf.string> <DatasetV1Adapter shapes: <unknown>, types: tf.int32>\n"
          ],
          "name": "stdout"
        }
      ]
    },
    {
      "cell_type": "markdown",
      "metadata": {
        "id": "1Vk7yn6FTrSJ",
        "colab_type": "text"
      },
      "source": [
        "# Prepare Training data"
      ]
    },
    {
      "cell_type": "code",
      "metadata": {
        "id": "5n8qHeo_U7_B",
        "colab_type": "code",
        "cellView": "both",
        "colab": {
          "base_uri": "https://localhost:8080/",
          "height": 74
        },
        "outputId": "13c06539-b5d5-4bea-c18c-2c7ad13734c2"
      },
      "source": [
        "#@title create training sequence{form-width: \"20%\"}\n",
        "seq_len =  201#@param {type:\"integer\"}\n",
        "\n",
        "dataset_seqs=dataset_chars_int.batch(seq_len+1,drop_remainder=True)\n",
        "for x in dataset_seqs.take(2):\n",
        "  print(repr(''.join(index2char[x.numpy()])))\n",
        "  #print(''.join(index2char[x]))"
      ],
      "execution_count": 7,
      "outputs": [
        {
          "output_type": "stream",
          "text": [
            "'Joseph Harold Greenberg (May 28, 1915 – May 7, 2001) was an American linguist, known mainly for his work concerning linguistic typology and the genetic classification of languages.\\n\\nLife\\n\\nEarly life and'\n",
            "' education \\n(Main source: Croft 2003)\\n\\nJoseph Greenberg was born on May 28, 1915 to Jewish parents in Brooklyn, New York. His first great interest was music. At the age of 14, he gave a piano concert in'\n"
          ],
          "name": "stdout"
        }
      ]
    },
    {
      "cell_type": "code",
      "metadata": {
        "id": "Tg4kXy2vVbKY",
        "colab_type": "code",
        "cellView": "both",
        "colab": {}
      },
      "source": [
        "#@title make pair sequence{form-width: \"20%\"}\n",
        "def split_input_target(chunk):\n",
        "  input_text=chunk[:-1]\n",
        "  target_text=chunk[1:]\n",
        "  return input_text, target_text\n",
        "dataset_pairs=dataset_seqs.map(split_input_target)\n",
        "# for inp,out in dataset_pairs.take(1):\n",
        "#   print(''.join(index2char[inp]))\n",
        "#   print(''.join(index2char[out]))\n",
        "\n",
        "#  oseph GreenbergPauline DonaldaList of German football%\n",
        "#  ---------------------------------------------------------\n",
        "#  Joseph GreenbergPauline DonaldaList of German football"
      ],
      "execution_count": 8,
      "outputs": []
    },
    {
      "cell_type": "code",
      "metadata": {
        "id": "Wc6dhqHLXu0g",
        "colab_type": "code",
        "cellView": "both",
        "colab": {}
      },
      "source": [
        "#@title make batches on sequence pairs {form-width: \"20%\"}\n",
        "batch_size=64#@param {type:\"integer\"}\n",
        "# Buffer size to shuffle the dataset (TF data is designed to work\n",
        "# with possibly infinite sequences, so it doesn't attempt to shuffle\n",
        "# the entire sequence in memory. Instead, it maintains a buffer in\n",
        "# which it shuffles elements).\n",
        "buffer_size=100#@param {type:\"integer\"}\n",
        "prefetch_size=10 #@param {type:\"integer\"}\n",
        "# How many items to prefetch before the next iteration.\n",
        "\n",
        "dataset_seqs_batches = dataset_pairs\\\n",
        "                      .shuffle(buffer_size)\\\n",
        "                      .batch(batch_size,drop_remainder=True)\\\n",
        "                      .prefetch(prefetch_size)\n",
        "#ds=dataset_seqs_batches.as_numpy_iterator()                  \n",
        "#print(next(ds))"
      ],
      "execution_count": 9,
      "outputs": []
    },
    {
      "cell_type": "markdown",
      "metadata": {
        "id": "2vfTG9bxcoDf",
        "colab_type": "text"
      },
      "source": [
        "# Build Model"
      ]
    },
    {
      "cell_type": "code",
      "metadata": {
        "id": "RtSeSvpVa6YS",
        "colab_type": "code",
        "cellView": "both",
        "colab": {}
      },
      "source": [
        "#@title build sequential model {form-width: \"20%\"}\n",
        "#embedding dimension\n",
        "#[1,20,1,1] dim=4  Apple -> [1,0,1,1] [...] [...] [...] [1,2,0,1]\n",
        "vocab_size=len(vocab) \n",
        "embedding_dim =  256#@param {type:\"integer\"}\n",
        "rnn_units =  1024#@param {type:\"integer\"}\n",
        "\n",
        "\n",
        "def build_model(vocab_size, embedding_dim, rnn_units, batch_size):\n",
        "  model = tf.keras.models.Sequential()\n",
        "  # Embedding layer\n",
        "  model.add(tf.keras.layers.Embedding(\n",
        "      input_dim=vocab_size,\n",
        "      output_dim=embedding_dim,\n",
        "      batch_input_shape=[batch_size, None]  \n",
        "      #         time:0123              embedding layer \n",
        "      #batch=3  seq=[I have a apple]       |   [1.2.3.0] [] [] [] [...]\n",
        "      #         seq=[cat eats apple]       |   [11.1.3.0] [] [] [] [...]\n",
        "      #         seq=[god hate apple]       |   [0.2.3.1] [] [] [] [...]\n",
        "\n",
        "  # LSTM layer  //RNN LSTM GRU\n",
        "  ))\n",
        "  model.add(tf.keras.layers.LSTM(\n",
        "      units=rnn_units, #dimensionality of the output space.       \n",
        "                                       \n",
        "      return_sequences=True,            #A|p  p|p p|l   Appl -> pple\n",
        "      stateful=True,\n",
        "      recurrent_initializer=tf.keras.initializers.GlorotNormal()\n",
        "\n",
        "  ))\n",
        "\n",
        "                                                   #embedding layer LSTM   Dense\n",
        "  model.add(tf.keras.layers.Dense(vocab_size))   #A     |   [1,2,3,1]   |     |   p     \n",
        "  return model\n"
      ],
      "execution_count": 10,
      "outputs": []
    },
    {
      "cell_type": "code",
      "metadata": {
        "id": "RoY2kZWmnF-P",
        "colab_type": "code",
        "cellView": "both",
        "colab": {
          "base_uri": "https://localhost:8080/",
          "height": 272
        },
        "outputId": "1a4aee0b-6f33-465b-a817-3c65f61ca87c"
      },
      "source": [
        " #@title show model {form-width: \"20%\"}\n",
        " model=build_model(vocab_size, embedding_dim, rnn_units, batch_size)\n",
        " model.summary()\n",
        "#  tf.keras.utils.plot_model(\n",
        "#     model,\n",
        "#     show_shapes=True,\n",
        "#     show_layer_names=True,\n",
        "# )"
      ],
      "execution_count": 11,
      "outputs": [
        {
          "output_type": "stream",
          "text": [
            "Model: \"sequential\"\n",
            "_________________________________________________________________\n",
            "Layer (type)                 Output Shape              Param #   \n",
            "=================================================================\n",
            "embedding (Embedding)        (64, None, 256)           158976    \n",
            "_________________________________________________________________\n",
            "lstm (LSTM)                  (64, None, 1024)          5246976   \n",
            "_________________________________________________________________\n",
            "dense (Dense)                (64, None, 621)           636525    \n",
            "=================================================================\n",
            "Total params: 6,042,477\n",
            "Trainable params: 6,042,477\n",
            "Non-trainable params: 0\n",
            "_________________________________________________________________\n"
          ],
          "name": "stdout"
        }
      ]
    },
    {
      "cell_type": "code",
      "metadata": {
        "id": "A8cgJLkornIV",
        "colab_type": "code",
        "cellView": "both",
        "colab": {}
      },
      "source": [
        "#@title loss function & optimizer {form-width: \"20%\"}\n",
        "learning_rate = 0.001 #@param {type:\"number\"}\n",
        "optimizer = tf.keras.optimizers.Adam(learning_rate)\n",
        "def loss(labels, logits):\n",
        "  return tf.keras.losses.sparse_categorical_crossentropy(labels, logits, from_logits=True)\n",
        "model.compile(optimizer=optimizer, loss=loss)"
      ],
      "execution_count": 12,
      "outputs": []
    },
    {
      "cell_type": "code",
      "metadata": {
        "id": "q-RRrT-pQAMe",
        "colab_type": "code",
        "colab": {}
      },
      "source": [
        "def get_dir(learning_rate,seq_len,epochs):\n",
        "    model_id= '_'.join([str(learning_rate),str(seq_len),str(epochs)])\n",
        "    log_dir=os.path.join('logs',model_id)\n",
        "    ckpt_dir= os.path.join('train',model_id)\n",
        "    ckpt_prefix = os.path.join(ckpt_dir, 'ckpt_{epoch}')\n",
        "    \n",
        " \n",
        "    return log_dir, ckpt_dir, ckpt_prefix "
      ],
      "execution_count": 13,
      "outputs": []
    },
    {
      "cell_type": "code",
      "metadata": {
        "id": "ULGfsBW1ujrv",
        "colab_type": "code",
        "cellView": "both",
        "colab": {
          "base_uri": "https://localhost:8080/",
          "height": 35
        },
        "outputId": "a3937bac-4617-4d26-d9d2-f386f09f8667"
      },
      "source": [
        "#@title checkpoints and tarining {form-width: \"20%\"}\n",
        "epochs =  150#@param {type:\"integer\"}\n",
        "\n",
        "\n",
        "steps_per_epoch=10#@param {type:\"number\"}\n",
        "log_dir, ckpt_dir, ckpt_prefix = get_dir(learning_rate,seq_len,epochs)\n",
        "\n",
        "print(ckpt_dir,ckpt_prefix )\n",
        "\n",
        "checkpoint_callback=[\n",
        "                     tf.keras.callbacks.TensorBoard(log_dir=log_dir, histogram_freq=1),\n",
        "                     tf.keras.callbacks.ModelCheckpoint(\n",
        "                         filepath=ckpt_dir,\n",
        "                         save_weights_only=True,\n",
        "                        #  mode='min',mointor='val_loss', save_best_only=True,verbose=1\n",
        "                      ),\n",
        "                     #tf.keras.callbacks.EarlyStopping(monitor='loss', patience=5),\n",
        "                     ]\n",
        "\n",
        "ds=dataset_seqs_batches.repeat()\n",
        "#model.load_weights((ckpt_dir))\n",
        "\n",
        "# history = model.fit(\n",
        "#     x=ds.as_numpy_iterator(),\n",
        "#     epochs=epochs,\n",
        "#     steps_per_epoch=steps_per_epoch,\n",
        "#     callbacks=[checkpoint_callback]  \n",
        "# )"
      ],
      "execution_count": 14,
      "outputs": [
        {
          "output_type": "stream",
          "text": [
            "train/0.001_201_150 train/0.001_201_150/ckpt_{epoch}\n"
          ],
          "name": "stdout"
        }
      ]
    },
    {
      "cell_type": "markdown",
      "metadata": {
        "id": "VOg_XFu4egZJ",
        "colab_type": "text"
      },
      "source": [
        "# Generate Text"
      ]
    },
    {
      "cell_type": "code",
      "metadata": {
        "id": "YdlHWlynIcdE",
        "colab_type": "code",
        "cellView": "both",
        "colab": {}
      },
      "source": [
        "#@title generate text{form-width: \"20%\"}\n",
        "\n",
        "def generate_text(model, start_string, num_generate = 1000, temperature=1.0):\n",
        "    # Evaluation step (generating text using the learned model)\n",
        "\n",
        "    # Converting our start string to numbers (vectorizing).\n",
        "    input_indices = [char2index[s] for s in start_string]\n",
        "    input_indices = tf.expand_dims(input_indices, 0)\n",
        "\n",
        "    # Empty string to store our results.\n",
        "    text_generated = []\n",
        "\n",
        "    # Here batch size == 1.\n",
        "    model.reset_states()\n",
        "    for char_index in range(num_generate):\n",
        "        predictions = model(input_indices)\n",
        "        # remove the batch dimension\n",
        "        predictions = tf.squeeze(predictions, 0)\n",
        "\n",
        "        # Using a categorical distribution to predict the character returned by the model.\n",
        "        predictions = predictions / temperature\n",
        "        predicted_id = tf.random.categorical(\n",
        "        predictions,\n",
        "        num_samples=1\n",
        "        )[-1,0].numpy()\n",
        "\n",
        "        # We pass the predicted character as the next input to the model\n",
        "        # along with the previous hidden state.\n",
        "        input_indices = tf.expand_dims([predicted_id], 0)\n",
        "\n",
        "        text_generated.append(index2char[predicted_id])\n",
        "\n",
        "    return (start_string +  ''.join(text_generated))\n",
        "    "
      ],
      "execution_count": 15,
      "outputs": []
    },
    {
      "cell_type": "code",
      "metadata": {
        "id": "8gkq0p_IelhU",
        "colab_type": "code",
        "colab": {
          "base_uri": "https://localhost:8080/",
          "height": 35
        },
        "outputId": "6fc025e9-2bb2-45ec-8484-17d08988c38b"
      },
      "source": [
        "#@title load checkpoints{form-width: \"20%\"}\n",
        "simplified_batch_size = 1\n",
        "\n",
        "pModel=build_model(vocab_size, embedding_dim, rnn_units,batch_size=1)\n",
        "pModel.load_weights(tf.train.latest_checkpoint(ckpt_dir))\n",
        "#pModel.load_weights(ckpt_dir)\n",
        "pModel.build(tf.TensorShape([simplified_batch_size,None]))\n",
        "\n",
        "print(ckpt_dir,tf.train.latest_checkpoint(ckpt_dir))\n",
        "\n",
        "# Apple eat by cat\n",
        "# People afraid of COVID19\n",
        "# ....."
      ],
      "execution_count": 16,
      "outputs": [
        {
          "output_type": "stream",
          "text": [
            "train/0.001_201_150 train/0.001_201_150/ckpt_150\n"
          ],
          "name": "stdout"
        }
      ]
    },
    {
      "cell_type": "code",
      "metadata": {
        "id": "8K24rrRLIr6i",
        "colab_type": "code",
        "colab": {
          "base_uri": "https://localhost:8080/",
          "height": 163
        },
        "outputId": "92d8ec47-46d5-4a3f-d7ce-930e8558f9e0"
      },
      "source": [
        "#@title generate wiki{form-width: \"20%\"}\n",
        "num_generate=1000 #@param {type:\"integer\"}\n",
        "temporature=0.6 #@param {type:\"number\"}\n",
        "start_string='Deep learning is '\n",
        "\n",
        "generated_text=generate_text(pModel,start_string,num_generate,temporature)\n",
        "\n",
        "\n",
        "import textwrap\n",
        "for x in textwrap.wrap(generated_text,130,tabsize=0):\n",
        "  print(x)\n"
      ],
      "execution_count": 17,
      "outputs": [
        {
          "output_type": "stream",
          "text": [
            "Deep learning is a songs in the book to Same became to the current positions in the City of Town of August 1965, and John Wan\n",
            "International Airportence Comeack. In the reating and Candles (state of the most be sports to Sachonore Englands and 1934.\n",
            "Category:Townschose People Championship in 1281 south of British and Kensal elective space to his boad after 1960 and the entire\n",
            "of the night propital of announced in 1973  In ANA However State (Club Was)  2000 (1996)  List of the County French Championship\n",
            "(1972) (Jert (1986) is a state to the Beit posted by competitions of list in 1987, while the inited in 1350 has been home and\n",
            "leading the released a north the member of Arence Finall Martinian from North University of Berships in Musquinian and American to\n",
            "Pendrian Award Afthe County Martinian dames family unere of Spanging simily. The List of Cases and Quiterary 2019.  References\n",
            "External links Category:American links Category:American program in July 2012 (C  - 3:20 Rusel of American Series begind Eri\n"
          ],
          "name": "stdout"
        }
      ]
    },
    {
      "cell_type": "code",
      "metadata": {
        "colab_type": "code",
        "id": "1lRVlgCDzkZT",
        "colab": {
          "base_uri": "https://localhost:8080/",
          "height": 163
        },
        "outputId": "ade6b9b8-1934-40be-d5c3-7deec9658a47"
      },
      "source": [
        "#@title generate wiki{form-width: \"20%\"}\n",
        "num_generate=1000 #@param {type:\"integer\"}\n",
        "temporature=1.0 #@param {type:\"number\"}\n",
        "start_string='Deep learning is '\n",
        "\n",
        "generated_text=generate_text(pModel,start_string,num_generate,temporature)\n",
        "\n",
        "\n",
        "import textwrap\n",
        "for x in textwrap.wrap(generated_text,130,tabsize=0):\n",
        "  print(x)\n"
      ],
      "execution_count": 19,
      "outputs": [
        {
          "output_type": "stream",
          "text": [
            "Deep learning is with Agenvational pade of Bue Madzezch. Hotil Massachum, he 7 was fiving aghist and allwdays in a vale for bound.\n",
            "It was from behin 2012 slores of Lock Kanuka, In Goot) As Schose Massilon Aditivist in Effroull Enger monercy and therqume to\n",
            "villed in diffienchion culture apporated, with see gome Institute Azericand, ascart and proatterage crafing on Jandical\n",
            "Anterlingte Elmings A Misilia finature to mater and Intluditist Film-70-in Internam daying Sing, International Matherington also\n",
            "poirf.  The nughnes distributingured to competition and 1/coadde. It was ex stratesition. on 30 Othpart 2iven also Qee Diseu daugn\n",
            "and the regit totes preticiplid.  West coust severia  Onoughts of Glence Dause Désorationa (Micha Ertrica inlignto M136) was\n",
            "matteriation of Nuvrall Airporied College Dury 1978  Forewn Depus A=\"RadKE838 2000) and clinct, a hist and pici of the rine toost\n",
            "kax also reacing, this who were with a varaction louncis-a grish finary Film 1995.2 18, Stom Such house  of April 2025) metav\n"
          ],
          "name": "stdout"
        }
      ]
    }
  ]
}